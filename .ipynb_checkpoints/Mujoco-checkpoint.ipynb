{
 "cells": [
  {
   "cell_type": "code",
   "execution_count": 2,
   "id": "4a34092b",
   "metadata": {},
   "outputs": [],
   "source": [
    "from matplotlib import pyplot as plt\n",
    "import numpy as np\n",
    "from einops import rearrange \n",
    "log_path = 'log/mujoco/CSDI-S4/20230110-111728/csdi_log'"
   ]
  },
  {
   "cell_type": "code",
   "execution_count": 3,
   "id": "b7a79854",
   "metadata": {},
   "outputs": [
    {
     "ename": "FileNotFoundError",
     "evalue": "[Errno 2] No such file or directory: 'log/mujoco/CSDI-S4/20230110-111728/csdi_log/observed_data.npy'",
     "output_type": "error",
     "traceback": [
      "\u001b[0;31m---------------------------------------------------------------------------\u001b[0m",
      "\u001b[0;31mFileNotFoundError\u001b[0m                         Traceback (most recent call last)",
      "Cell \u001b[0;32mIn[3], line 1\u001b[0m\n\u001b[0;32m----> 1\u001b[0m observed_data, ob_mask, gt_mask \u001b[38;5;241m=\u001b[39m \u001b[43mnp\u001b[49m\u001b[38;5;241;43m.\u001b[39;49m\u001b[43mload\u001b[49m\u001b[43m(\u001b[49m\u001b[43mlog_path\u001b[49m\u001b[43m \u001b[49m\u001b[38;5;241;43m+\u001b[39;49m\u001b[43m \u001b[49m\u001b[38;5;124;43m'\u001b[39;49m\u001b[38;5;124;43m/observed_data.npy\u001b[39;49m\u001b[38;5;124;43m'\u001b[39;49m\u001b[43m)\u001b[49m, np\u001b[38;5;241m.\u001b[39mload(log_path \u001b[38;5;241m+\u001b[39m \u001b[38;5;124m'\u001b[39m\u001b[38;5;124m/ob_mask.npy\u001b[39m\u001b[38;5;124m'\u001b[39m), np\u001b[38;5;241m.\u001b[39mload(log_path \u001b[38;5;241m+\u001b[39m \u001b[38;5;124m'\u001b[39m\u001b[38;5;124m/gt_mask.npy\u001b[39m\u001b[38;5;124m'\u001b[39m)\n\u001b[1;32m      2\u001b[0m imputed_data \u001b[38;5;241m=\u001b[39m np\u001b[38;5;241m.\u001b[39mload(log_path \u001b[38;5;241m+\u001b[39m \u001b[38;5;124m'\u001b[39m\u001b[38;5;124m/imputed_data.npy\u001b[39m\u001b[38;5;124m'\u001b[39m)\n",
      "File \u001b[0;32m~/miniforge3/envs/tf2/lib/python3.10/site-packages/numpy/lib/npyio.py:405\u001b[0m, in \u001b[0;36mload\u001b[0;34m(file, mmap_mode, allow_pickle, fix_imports, encoding, max_header_size)\u001b[0m\n\u001b[1;32m    403\u001b[0m     own_fid \u001b[38;5;241m=\u001b[39m \u001b[38;5;28;01mFalse\u001b[39;00m\n\u001b[1;32m    404\u001b[0m \u001b[38;5;28;01melse\u001b[39;00m:\n\u001b[0;32m--> 405\u001b[0m     fid \u001b[38;5;241m=\u001b[39m stack\u001b[38;5;241m.\u001b[39menter_context(\u001b[38;5;28;43mopen\u001b[39;49m\u001b[43m(\u001b[49m\u001b[43mos_fspath\u001b[49m\u001b[43m(\u001b[49m\u001b[43mfile\u001b[49m\u001b[43m)\u001b[49m\u001b[43m,\u001b[49m\u001b[43m \u001b[49m\u001b[38;5;124;43m\"\u001b[39;49m\u001b[38;5;124;43mrb\u001b[39;49m\u001b[38;5;124;43m\"\u001b[39;49m\u001b[43m)\u001b[49m)\n\u001b[1;32m    406\u001b[0m     own_fid \u001b[38;5;241m=\u001b[39m \u001b[38;5;28;01mTrue\u001b[39;00m\n\u001b[1;32m    408\u001b[0m \u001b[38;5;66;03m# Code to distinguish from NumPy binary files and pickles.\u001b[39;00m\n",
      "\u001b[0;31mFileNotFoundError\u001b[0m: [Errno 2] No such file or directory: 'log/mujoco/CSDI-S4/20230110-111728/csdi_log/observed_data.npy'"
     ]
    }
   ],
   "source": [
    "observed_data, ob_mask, gt_mask = np.load(log_path + '/observed_data.npy'), np.load(log_path + '/ob_mask.npy'), np.load(log_path + '/gt_mask.npy')\n",
    "imputed_data = np.load(log_path + '/imputed_data.npy')"
   ]
  },
  {
   "cell_type": "code",
   "execution_count": 5,
   "id": "af93260e",
   "metadata": {},
   "outputs": [],
   "source": [
    "imputed_median = np.median(imputed_data, axis=2)\n",
    "imputed_median = imputed_median.reshape(-1, 100, 14)"
   ]
  },
  {
   "cell_type": "code",
   "execution_count": 6,
   "id": "ac3b0b40",
   "metadata": {},
   "outputs": [
    {
     "data": {
      "text/plain": [
       "(6400, 100, 14)"
      ]
     },
     "execution_count": 6,
     "metadata": {},
     "output_type": "execute_result"
    }
   ],
   "source": [
    "imputed_median.shape"
   ]
  },
  {
   "cell_type": "code",
   "execution_count": 10,
   "id": "02cc0b92",
   "metadata": {},
   "outputs": [],
   "source": [
    "observed_data = np.transpose(observed_data, [0, 2, 1])"
   ]
  },
  {
   "cell_type": "code",
   "execution_count": 11,
   "id": "9b134b70",
   "metadata": {},
   "outputs": [],
   "source": [
    "target_maks = ob_mask - gt_mask\n",
    "target_maks = np.transpose(target_maks, [0, 2, 1])"
   ]
  },
  {
   "cell_type": "code",
   "execution_count": 17,
   "id": "74b47bf9",
   "metadata": {},
   "outputs": [],
   "source": [
    "mse_total = ((imputed_median-observed_data) * target_maks)**2\n",
    "mae_total = np.abs((imputed_median-observed_data) * target_maks)"
   ]
  },
  {
   "cell_type": "code",
   "execution_count": 15,
   "id": "e07917fa",
   "metadata": {},
   "outputs": [
    {
     "data": {
      "text/plain": [
       "0.00017180445"
      ]
     },
     "execution_count": 15,
     "metadata": {},
     "output_type": "execute_result"
    }
   ],
   "source": [
    "mse_total.sum()/target_maks.sum()"
   ]
  },
  {
   "cell_type": "code",
   "execution_count": 18,
   "id": "1e0afd85",
   "metadata": {},
   "outputs": [
    {
     "data": {
      "text/plain": [
       "0.005221647"
      ]
     },
     "execution_count": 18,
     "metadata": {},
     "output_type": "execute_result"
    }
   ],
   "source": [
    "mae_total.sum()/target_maks.sum()"
   ]
  },
  {
   "cell_type": "code",
   "execution_count": 21,
   "id": "4ccbacee",
   "metadata": {},
   "outputs": [
    {
     "data": {
      "text/plain": [
       "(100, 14)"
      ]
     },
     "execution_count": 21,
     "metadata": {},
     "output_type": "execute_result"
    }
   ],
   "source": []
  },
  {
   "cell_type": "code",
   "execution_count": null,
   "id": "3d3b89a7",
   "metadata": {},
   "outputs": [],
   "source": []
  }
 ],
 "metadata": {
  "kernelspec": {
   "display_name": "Python 3 (ipykernel)",
   "language": "python",
   "name": "python3"
  },
  "language_info": {
   "codemirror_mode": {
    "name": "ipython",
    "version": 3
   },
   "file_extension": ".py",
   "mimetype": "text/x-python",
   "name": "python",
   "nbconvert_exporter": "python",
   "pygments_lexer": "ipython3",
   "version": "3.10.6"
  }
 },
 "nbformat": 4,
 "nbformat_minor": 5
}
