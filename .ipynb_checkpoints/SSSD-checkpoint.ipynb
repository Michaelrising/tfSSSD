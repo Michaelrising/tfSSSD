{
 "cells": [
  {
   "cell_type": "code",
   "execution_count": 3,
   "id": "5ebf0365",
   "metadata": {},
   "outputs": [],
   "source": [
    "from matplotlib import pyplot as plt\n",
    "import numpy as np\n",
    "from einops import rearrange \n",
    "import os\n",
    "log_path = './log/stocks'"
   ]
  },
  {
   "cell_type": "code",
   "execution_count": 4,
   "id": "8e33cf7c",
   "metadata": {},
   "outputs": [
    {
     "ename": "IsADirectoryError",
     "evalue": "[Errno 21] Is a directory: './log/stocks/DJ/SSSD-S4/20230128-162538_T_100_Layers_18'",
     "output_type": "error",
     "traceback": [
      "\u001b[0;31m---------------------------------------------------------------------------\u001b[0m",
      "\u001b[0;31mIsADirectoryError\u001b[0m                         Traceback (most recent call last)",
      "Cell \u001b[0;32mIn[4], line 10\u001b[0m\n\u001b[1;32m      8\u001b[0m past_time \u001b[38;5;241m=\u001b[39m \u001b[38;5;28mmax\u001b[39m(os\u001b[38;5;241m.\u001b[39mlistdir(log_path))\n\u001b[1;32m      9\u001b[0m mask_path \u001b[38;5;241m=\u001b[39m log_path \u001b[38;5;241m+\u001b[39m past_time\n\u001b[0;32m---> 10\u001b[0m gt_mask \u001b[38;5;241m=\u001b[39m \u001b[43mnp\u001b[49m\u001b[38;5;241;43m.\u001b[39;49m\u001b[43mload\u001b[49m\u001b[43m(\u001b[49m\u001b[43mmask_path\u001b[49m\u001b[43m)\u001b[49m\u001b[38;5;241m.\u001b[39mastype(\u001b[38;5;28mbool\u001b[39m)\n\u001b[1;32m     11\u001b[0m generated_imputation \u001b[38;5;241m=\u001b[39m np\u001b[38;5;241m.\u001b[39mload(\u001b[38;5;124m'\u001b[39m\u001b[38;5;124mresults/stocks/\u001b[39m\u001b[38;5;124m'\u001b[39m\u001b[38;5;241m+\u001b[39mticker\u001b[38;5;241m+\u001b[39m\u001b[38;5;124m'\u001b[39m\u001b[38;5;124m/SSSD-\u001b[39m\u001b[38;5;124m'\u001b[39m\u001b[38;5;241m+\u001b[39malg\u001b[38;5;241m+\u001b[39mpast_time\u001b[38;5;241m+\u001b[39m\u001b[38;5;124m'\u001b[39m\u001b[38;5;124mgenerated_samples/imputed-data.npy\u001b[39m\u001b[38;5;124m'\u001b[39m)\n\u001b[1;32m     12\u001b[0m gs_median \u001b[38;5;241m=\u001b[39m np\u001b[38;5;241m.\u001b[39mmedian(generated_imputation, axis \u001b[38;5;241m=\u001b[39m \u001b[38;5;241m0\u001b[39m) \u001b[38;5;66;03m# L N C\u001b[39;00m\n",
      "File \u001b[0;32m~/miniforge3/envs/tf2/lib/python3.10/site-packages/numpy/lib/npyio.py:405\u001b[0m, in \u001b[0;36mload\u001b[0;34m(file, mmap_mode, allow_pickle, fix_imports, encoding, max_header_size)\u001b[0m\n\u001b[1;32m    403\u001b[0m     own_fid \u001b[38;5;241m=\u001b[39m \u001b[38;5;28;01mFalse\u001b[39;00m\n\u001b[1;32m    404\u001b[0m \u001b[38;5;28;01melse\u001b[39;00m:\n\u001b[0;32m--> 405\u001b[0m     fid \u001b[38;5;241m=\u001b[39m stack\u001b[38;5;241m.\u001b[39menter_context(\u001b[38;5;28;43mopen\u001b[39;49m\u001b[43m(\u001b[49m\u001b[43mos_fspath\u001b[49m\u001b[43m(\u001b[49m\u001b[43mfile\u001b[49m\u001b[43m)\u001b[49m\u001b[43m,\u001b[49m\u001b[43m \u001b[49m\u001b[38;5;124;43m\"\u001b[39;49m\u001b[38;5;124;43mrb\u001b[39;49m\u001b[38;5;124;43m\"\u001b[39;49m\u001b[43m)\u001b[49m)\n\u001b[1;32m    406\u001b[0m     own_fid \u001b[38;5;241m=\u001b[39m \u001b[38;5;28;01mTrue\u001b[39;00m\n\u001b[1;32m    408\u001b[0m \u001b[38;5;66;03m# Code to distinguish from NumPy binary files and pickles.\u001b[39;00m\n",
      "\u001b[0;31mIsADirectoryError\u001b[0m: [Errno 21] Is a directory: './log/stocks/DJ/SSSD-S4/20230128-162538_T_100_Layers_18'"
     ]
    }
   ],
   "source": [
    "stocks = ['DJ', 'ES', \"SE\"]\n",
    "algs = ['S4', 'S5'] # Mega is not ready yet\n",
    "for ticker in stocks:\n",
    "    scaled_stock = np.load('datasets/Stocks/scaled_' + ticker + \"_all_stocks_2013-01-02_to_2023-01-01.npy\")\n",
    "    original_stock = np.load('datasets/Stocks/' + ticker + \"_all_stocks_2013-01-02_to_2023-01-01.npy\")\n",
    "    for alg in algs:\n",
    "        log_path = './log/stocks/' + ticker +'/SSSD-'+ alg + \"/\" \n",
    "        past_time = max(os.listdir(log_path))\n",
    "        mask_path = log_path + past_time + '/gt_masks.npy'\n",
    "        gt_mask = np.load(mask_path).astype(bool)\n",
    "        generated_imputation = np.load('results/stocks/'+ticker+'/SSSD-'+alg+past_time+'generated_samples/imputed-data.npy')\n",
    "        gs_median = np.median(generated_imputation, axis = 0) # L N C\n",
    "        gs = scaled_stock\n",
    "        gs[~gt_mask] = gs_median[~gt_mask]\n",
    "        mse = np.mean((gs - scaled_stock)**2)\n",
    "        ase = abs(gs - scaled_stock)\n",
    "        print(\"The mse:{} and ase:{}\".format(mse, ase))\n",
    "        \n",
    "        \n",
    "        \n",
    "        \n",
    "        \n",
    "        "
   ]
  }
 ],
 "metadata": {
  "kernelspec": {
   "display_name": "Python 3 (ipykernel)",
   "language": "python",
   "name": "python3"
  },
  "language_info": {
   "codemirror_mode": {
    "name": "ipython",
    "version": 3
   },
   "file_extension": ".py",
   "mimetype": "text/x-python",
   "name": "python",
   "nbconvert_exporter": "python",
   "pygments_lexer": "ipython3",
   "version": "3.10.6"
  }
 },
 "nbformat": 4,
 "nbformat_minor": 5
}
