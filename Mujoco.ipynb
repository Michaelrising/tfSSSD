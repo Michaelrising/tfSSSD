{
 "cells": [
  {
   "cell_type": "code",
   "execution_count": 1,
   "id": "4a34092b",
   "metadata": {},
   "outputs": [],
   "source": [
    "from matplotlib import pyplot as plt\n",
    "import numpy as np\n",
    "from einops import rearrange \n",
    "log_path = 'log/mujoco/CSDI-S4/20230110-111728/csdi_log'"
   ]
  },
  {
   "cell_type": "code",
   "execution_count": 2,
   "id": "b7a79854",
   "metadata": {},
   "outputs": [],
   "source": [
    "observed_data, ob_mask, gt_mask = np.load(log_path + '/observed_data.npy'), np.load(log_path + '/ob_mask.npy'), np.load(log_path + '/gt_mask.npy')\n",
    "imputed_data = np.load(log_path + '/imputed_data.npy')"
   ]
  },
  {
   "cell_type": "code",
   "execution_count": 5,
   "id": "af93260e",
   "metadata": {},
   "outputs": [],
   "source": [
    "imputed_median = np.median(imputed_data, axis=2)\n",
    "imputed_median = imputed_median.reshape(-1, 100, 14)"
   ]
  },
  {
   "cell_type": "code",
   "execution_count": 6,
   "id": "ac3b0b40",
   "metadata": {},
   "outputs": [
    {
     "data": {
      "text/plain": [
       "(6400, 100, 14)"
      ]
     },
     "execution_count": 6,
     "metadata": {},
     "output_type": "execute_result"
    }
   ],
   "source": [
    "imputed_median.shape"
   ]
  },
  {
   "cell_type": "code",
   "execution_count": 10,
   "id": "02cc0b92",
   "metadata": {},
   "outputs": [],
   "source": [
    "observed_data = np.transpose(observed_data, [0, 2, 1])"
   ]
  },
  {
   "cell_type": "code",
   "execution_count": 11,
   "id": "9b134b70",
   "metadata": {},
   "outputs": [],
   "source": [
    "target_maks = ob_mask - gt_mask\n",
    "target_maks = np.transpose(target_maks, [0, 2, 1])"
   ]
  },
  {
   "cell_type": "code",
   "execution_count": 17,
   "id": "74b47bf9",
   "metadata": {},
   "outputs": [],
   "source": [
    "mse_total = ((imputed_median-observed_data) * target_maks)**2\n",
    "mae_total = np.abs((imputed_median-observed_data) * target_maks)"
   ]
  },
  {
   "cell_type": "code",
   "execution_count": 15,
   "id": "e07917fa",
   "metadata": {},
   "outputs": [
    {
     "data": {
      "text/plain": [
       "0.00017180445"
      ]
     },
     "execution_count": 15,
     "metadata": {},
     "output_type": "execute_result"
    }
   ],
   "source": [
    "mse_total.sum()/target_maks.sum()"
   ]
  },
  {
   "cell_type": "code",
   "execution_count": 18,
   "id": "1e0afd85",
   "metadata": {},
   "outputs": [
    {
     "data": {
      "text/plain": [
       "0.005221647"
      ]
     },
     "execution_count": 18,
     "metadata": {},
     "output_type": "execute_result"
    }
   ],
   "source": [
    "mae_total.sum()/target_maks.sum()"
   ]
  },
  {
   "cell_type": "code",
   "execution_count": 21,
   "id": "4ccbacee",
   "metadata": {},
   "outputs": [
    {
     "data": {
      "text/plain": [
       "(100, 14)"
      ]
     },
     "execution_count": 21,
     "metadata": {},
     "output_type": "execute_result"
    }
   ],
   "source": []
  },
  {
   "cell_type": "code",
   "execution_count": null,
   "id": "3d3b89a7",
   "metadata": {},
   "outputs": [],
   "source": []
  }
 ],
 "metadata": {
  "kernelspec": {
   "display_name": "Python 3 (ipykernel)",
   "language": "python",
   "name": "python3"
  },
  "language_info": {
   "codemirror_mode": {
    "name": "ipython",
    "version": 3
   },
   "file_extension": ".py",
   "mimetype": "text/x-python",
   "name": "python",
   "nbconvert_exporter": "python",
   "pygments_lexer": "ipython3",
   "version": "3.10.6"
  }
 },
 "nbformat": 4,
 "nbformat_minor": 5
}
